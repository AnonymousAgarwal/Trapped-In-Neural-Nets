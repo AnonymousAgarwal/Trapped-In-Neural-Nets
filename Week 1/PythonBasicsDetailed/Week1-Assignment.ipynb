{
 "cells": [
  {
   "cell_type": "markdown",
   "metadata": {},
   "source": [
    "# Welcome to the first assignment of this course\n",
    "\n",
    "As you know, each week in this course is dedicated to certain specific topics and the assignment format is carefully designed suited to the content that the students have to be evaluated upon. Since, this was the first week and your introduction to Python, the assignments are basic level and wherein you have to complete the program to generate the expected output.\n",
    "\n",
    "Each question has a function written (don't worry you will be introduced to functions next week :), you just have to complete the program and run the subsequent cells which have the code to evalute the output of your fucntion. If your program matches the required output, you get a point! There are 5 questions, minimum passing criteria is to get 3/5 points."
   ]
  },
  {
   "cell_type": "markdown",
   "metadata": {},
   "source": [
    "## Q 1) Sum of Digits\n",
    "You're given an integer N. Write a program to calculate the sum of all the digits of N."
   ]
  },
  {
   "cell_type": "code",
   "execution_count": 1,
   "metadata": {},
   "outputs": [],
   "source": [
    "#complete the program below\n",
    "def calculate_sum(N):\n",
    "    #you can use the varibale N in your code\n",
    "    #initialise this variable to required value\n",
    "    sum_digits = None\n",
    "    \n",
    "    #write the code to calculate sum here. Hint - use can use loops\n",
    "    \n",
    "    return sum_digits"
   ]
  },
  {
   "cell_type": "code",
   "execution_count": 2,
   "metadata": {},
   "outputs": [],
   "source": [
    "#do not change this\n",
    "print(calculate_sum(1234567))\n",
    "print(calculate_sum(9900))"
   ]
  },
  {
   "cell_type": "markdown",
   "metadata": {},
   "source": [
    "##### Expected output :  \n",
    "``28``\n",
    "\n",
    "``18``"
   ]
  },
  {
   "cell_type": "markdown",
   "metadata": {},
   "source": [
    "## Q 2) Factorial\n",
    "You're given an integer N (< 100). Write a program to calculate the factorial of N."
   ]
  },
  {
   "cell_type": "code",
   "execution_count": null,
   "metadata": {},
   "outputs": [],
   "source": [
    "#complete the program below\n",
    "def calculate_fac(N):\n",
    "    #you can use the varibale N in your code\n",
    "    #initialise this variable to required value\n",
    "    factorial = None\n",
    "    \n",
    "    #write the code to calculate factorial here. \n",
    "    '''Some of you may have previous experience with coding and take different approach to solve \n",
    "    this problem. In that case, you can alter the code in this cell whihchever way you want but \n",
    "    the expected output should be generated for you to get a point'''\n",
    "    \n",
    "    return factorial"
   ]
  },
  {
   "cell_type": "code",
   "execution_count": null,
   "metadata": {},
   "outputs": [],
   "source": [
    "#do not change this code\n",
    "print(calculate_fac(0))\n",
    "print(calculate_fac(12))"
   ]
  },
  {
   "cell_type": "markdown",
   "metadata": {},
   "source": [
    "##### Expected output:\n",
    "\n",
    "`1`\n",
    "\n",
    "`479001600`"
   ]
  },
  {
   "cell_type": "markdown",
   "metadata": {},
   "source": [
    "## Q 3) Mahasena\n",
    "\n",
    "Kattapa, as you all know was one of the greatest warriors of his time. The kingdom of Maahishmati had never lost a battle under him (as army-chief), and the reason for that was their really powerful army, also called as Mahasena.\n",
    "\n",
    "Kattapa was known to be a very superstitious person. He believed that a soldier is \"lucky\" if the soldier is holding an even number of weapons, and \"unlucky\" otherwise. He considered the army as \"READY FOR BATTLE\" if the count of \"lucky\" soldiers is strictly greater than the count of \"unlucky\" soldiers, and \"NOT READY\" otherwise.\n",
    "\n",
    "Given the number of weapons each soldier is holding, your task is to determine whether the army formed by all these soldiers is \"READY FOR BATTLE\" or \"NOT READY\".\n",
    "\n",
    "\n",
    "The input consists of a single integer `N` denoting the number of soldiers and a list `Weapons` of integers A1, A2, ..., AN, where Ai denotes the number of weapons that the ith soldier is holding. You have to print whether the army is `READY FOR BATTLE` or `NOT READY`. Output is case sensitive!"
   ]
  },
  {
   "cell_type": "code",
   "execution_count": null,
   "metadata": {},
   "outputs": [],
   "source": [
    "#complete the program below\n",
    "def is_ready(N, Weapons):\n",
    "    #you can use the varibales N and Weapons in your code\n",
    "    \n",
    "    #write the code here. \n",
    "    '''Some of you may have previous experience with coding and take different approach to solve \n",
    "    this problem. In that case, you can alter the code in this cell whihchever way you want but \n",
    "    the expected output should be generated for you to get a point'''\n",
    "    \n",
    "    #Print the final answer too!"
   ]
  },
  {
   "cell_type": "code",
   "execution_count": null,
   "metadata": {},
   "outputs": [],
   "source": [
    "#do not change this code\n",
    "is_ready(6, [1, 2, 3, 4, 5, 6])\n",
    "is_ready(4, [20, 24, 25, 228])"
   ]
  },
  {
   "cell_type": "markdown",
   "metadata": {},
   "source": [
    "##### Expected output:\n",
    "\n",
    "`NOT READY`\n",
    "\n",
    "`READY FOR BATTLE`"
   ]
  },
  {
   "cell_type": "markdown",
   "metadata": {},
   "source": [
    "## Q 4) Little Elephants\n",
    "\n",
    "A Little Elephant and his friends from the Zoo of Powai like candies very much.\n",
    "\n",
    "There are N elephants in the Zoo. The elephant with number K (1 ≤ K ≤ N) will be happy if he receives at least AK candies. There are C candies in all in the Zoo.\n",
    "\n",
    "The Zoo staff is interested in knowing whether it is possible to make all the N elephants happy by giving each elephant at least as many candies as he wants, that is, the Kth elephant should receive at least AK candies. Each candy can be given to only one elephant. Print `Yes` if it is possible and `No` otherwise.\n",
    "\n",
    "The input consists of integers N and C, the total number of elephants and the total number of candies in the Zoo respectively. The third input `candies` is a list and  contains N integers A1, A2, ..., AN. \n",
    "\n",
    "For each test case output exactly one line containing the string Yes if it possible to make all elephants happy and the string No otherwise. Output is case sensitive. So do not print YES or yes.\n"
   ]
  },
  {
   "cell_type": "code",
   "execution_count": null,
   "metadata": {},
   "outputs": [],
   "source": [
    "#complete the program below\n",
    "def all_happy(N, C, candies):\n",
    "    #you can use the varibales N, C and candies in your code\n",
    "    \n",
    "    #write the code here. \n",
    "    '''Some of you may have previous experience with coding and take different approach to solve \n",
    "    this problem. In that case, you can alter the code in this cell whihchever way you want but \n",
    "    the expected output should be generated for you to get a point'''\n",
    "    \n",
    "    #Print the final answer too!"
   ]
  },
  {
   "cell_type": "code",
   "execution_count": 4,
   "metadata": {},
   "outputs": [],
   "source": [
    "#do not change this code\n",
    "all_happy(6, 8, [1, 1, 2, 2, 1, 2])\n",
    "all_happy(5, 575, [0, 110, 120, 130, 140])"
   ]
  },
  {
   "cell_type": "markdown",
   "metadata": {},
   "source": [
    "##### Expected Output: \n",
    "\n",
    "`No`\n",
    "\n",
    "`Yes`"
   ]
  },
  {
   "cell_type": "markdown",
   "metadata": {},
   "source": [
    "## Q 5) COVID Pandemic and Long Queue\n",
    "\n",
    "Due to the COVID pandemic, people have been advised to stay at least 6 feet away from any other person. Now, people are lining up in a queue at the local shop and it is your duty to check whether they are all following this advice.\n",
    "\n",
    "There are a total of N spots (numbered 1 through N) where people can stand in front of the local shop. The distance between each pair of adjacent spots is 1 foot. Each spot may be either empty or occupied; you are given a sequence A1,A2,…,AN, where for each valid i, Ai=0 means that the i-th spot is empty, while Ai=1 means that there is a person standing at this spot. It is guaranteed that the queue is not completely empty.\n",
    "\n",
    "For example, if N=11 and the sequence A is `(0,1,0,0,0,0,0,1,0,0,1)`, then this is a queue in which people are not following the advice because there are two people at a distance of just 3 feet from each other.\n",
    "\n",
    "You need to determine whether the people outside the local shop are following the social distancing advice or not. As long as some two people are standing at a distance smaller than 6 feet from each other, it is bad and you should report it, since social distancing is not being followed."
   ]
  },
  {
   "cell_type": "markdown",
   "metadata": {},
   "source": [
    "##### Input format\n",
    "The first input is N. The next input `queue` is in the form of a dictionary where each element is given as `'spot_number: value (0 or 1)`\n",
    "\n",
    "Example: the above sequence would be in input as:\n",
    "\n",
    "`{'1' : 0,  '2' : 1,  '3' : 0,  '4' : 0,  '5' : 0,  '6' : 0,  '7' : 0,  '8' : 1,  '9' : 0,  '10' : 0,  '11' : 1}`\n",
    "\n",
    "##### Output format\n",
    "For each test case, print a single line containing the string `Yes` if social distancing is being followed or `No` otherwise. Output is case-sensitive!"
   ]
  },
  {
   "cell_type": "code",
   "execution_count": null,
   "metadata": {},
   "outputs": [],
   "source": [
    "#complete the program below\n",
    "def social_dist(N, queue):\n",
    "    #you can use the varibales N and queue in your code\n",
    "    \n",
    "    #write the code here. Hint: use int(), str() etc for data type conversion if required for accessing dictionary values\n",
    "    '''Some of you may have previous experience with coding and take different approach to solve \n",
    "    this problem. In that case, you can alter the code in this cell whihchever way you want but \n",
    "    the expected output should be generated for you to get a point'''\n",
    "    \n",
    "    #Print the final answer too!"
   ]
  },
  {
   "cell_type": "code",
   "execution_count": 7,
   "metadata": {},
   "outputs": [],
   "source": [
    "#do not change this code\n",
    "queue1 = {'1':1, '2':0, '3':0, '4':0, '5':1}\n",
    "social_dist(5, queue1)\n",
    "\n",
    "queue2 = {'1':0, '2':0, '3':1, '4':0, '5':0, '6':0, '7':0, '8':0, '9':1, '10':0}\n",
    "social_dist(10, queue2)"
   ]
  },
  {
   "cell_type": "markdown",
   "metadata": {},
   "source": [
    "##### Expected output:\n",
    "\n",
    "`No`\n",
    "\n",
    "`Yes`"
   ]
  }
 ],
 "metadata": {
  "kernelspec": {
   "display_name": "Python 3",
   "language": "python",
   "name": "python3"
  },
  "language_info": {
   "codemirror_mode": {
    "name": "ipython",
    "version": 3
   },
   "file_extension": ".py",
   "mimetype": "text/x-python",
   "name": "python",
   "nbconvert_exporter": "python",
   "pygments_lexer": "ipython3",
   "version": "3.7.6"
  }
 },
 "nbformat": 4,
 "nbformat_minor": 4
}
